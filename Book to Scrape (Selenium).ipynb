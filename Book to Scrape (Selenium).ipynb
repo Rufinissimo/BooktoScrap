{
 "cells": [
  {
   "cell_type": "markdown",
   "metadata": {},
   "source": [
    "#### Importar bibliotecas e configurações de navegador"
   ]
  },
  {
   "cell_type": "code",
   "execution_count": 1,
   "metadata": {},
   "outputs": [],
   "source": [
    "from selenium import webdriver\n",
    "from selenium.webdriver.chrome.service import Service\n",
    "from selenium.webdriver.common.by import By\n",
    "import pandas as pd\n",
    "\n",
    "service = Service()\n",
    "\n",
    "options = webdriver.ChromeOptions()\n",
    "\n",
    "navegador = webdriver.Chrome(service=service, options=options)\n",
    "\n",
    "navegador.maximize_window()"
   ]
  },
  {
   "cell_type": "markdown",
   "metadata": {},
   "source": [
    "#### Determinar o endereço (site) para consulta"
   ]
  },
  {
   "cell_type": "code",
   "execution_count": 2,
   "metadata": {},
   "outputs": [],
   "source": [
    "url = \"https://books.toscrape.com/\"\n",
    "\n",
    "navegador.get(url)"
   ]
  },
  {
   "cell_type": "markdown",
   "metadata": {},
   "source": [
    "#### Fazer o tratamento de pesquisa"
   ]
  },
  {
   "cell_type": "code",
   "execution_count": 3,
   "metadata": {},
   "outputs": [
    {
     "data": {
      "text/plain": [
       "'A Light in the Attic'"
      ]
     },
     "execution_count": 3,
     "metadata": {},
     "output_type": "execute_result"
    }
   ],
   "source": [
    "navegador.find_elements(By.TAG_NAME, 'a')[54].get_attribute('title')"
   ]
  },
  {
   "cell_type": "markdown",
   "metadata": {},
   "source": [
    "#### Executar a consulta e converter em tabela\n",
    "\n",
    "##### Exemplo 1"
   ]
  },
  {
   "cell_type": "code",
   "execution_count": 4,
   "metadata": {},
   "outputs": [],
   "source": [
    "# lista_elementos = navegador.find_elements(By.TAG_NAME, 'a')\n",
    "\n",
    "#  ## Minha versão -> O segundo argumento (title) não tem finalidade dentro do loop enumerate, porém, o código funciona.\n",
    "# # lista_titulos = [navegador.find_elements(By.TAG_NAME, 'a')[i].get_attribute('title') for i, title in enumerate(lista_elementos) if i >= 54 and i % 2 == 0]\n",
    "\n",
    "# lista_titulos = [navegador.find_elements(By.TAG_NAME, 'a')[i].get_attribute('title') for i in range(54, len(lista_elementos), 2)]"
   ]
  },
  {
   "cell_type": "markdown",
   "metadata": {},
   "source": [
    "##### Exemplo 2 (revisada)"
   ]
  },
  {
   "cell_type": "code",
   "execution_count": 5,
   "metadata": {},
   "outputs": [],
   "source": [
    "lista_elementos = navegador.find_elements(By.TAG_NAME, 'a')[54:94:2]\n",
    "\n",
    "lista_titulos = [title.get_attribute('title') for title in lista_elementos]\n",
    "lista_preco = []\n",
    "estoque = []\n",
    "\n",
    "for title in lista_elementos:\n",
    "    title.click()\n",
    "    preco = navegador.find_element(By.CLASS_NAME, 'price_color').text.replace(\"£\", \"R$\")\n",
    "    lista_preco.append(preco)\n",
    "    valor_estoque = int(navegador.find_element(By.CLASS_NAME, 'instock').text.replace(\"In stock (\", \"\").replace(\" available)\", \"\"))\n",
    "    estoque.append(valor_estoque)\n",
    "\n",
    "    navegador.back()"
   ]
  },
  {
   "cell_type": "code",
   "execution_count": 6,
   "metadata": {},
   "outputs": [
    {
     "data": {
      "text/html": [
       "<div>\n",
       "<style scoped>\n",
       "    .dataframe tbody tr th:only-of-type {\n",
       "        vertical-align: middle;\n",
       "    }\n",
       "\n",
       "    .dataframe tbody tr th {\n",
       "        vertical-align: top;\n",
       "    }\n",
       "\n",
       "    .dataframe thead th {\n",
       "        text-align: right;\n",
       "    }\n",
       "</style>\n",
       "<table border=\"1\" class=\"dataframe\">\n",
       "  <thead>\n",
       "    <tr style=\"text-align: right;\">\n",
       "      <th></th>\n",
       "      <th>Livros</th>\n",
       "      <th>Preço</th>\n",
       "      <th>Estoque</th>\n",
       "    </tr>\n",
       "  </thead>\n",
       "  <tbody>\n",
       "    <tr>\n",
       "      <th>1</th>\n",
       "      <td>A Light in the Attic</td>\n",
       "      <td>R$51.77</td>\n",
       "      <td>22</td>\n",
       "    </tr>\n",
       "    <tr>\n",
       "      <th>2</th>\n",
       "      <td>Tipping the Velvet</td>\n",
       "      <td>R$53.74</td>\n",
       "      <td>20</td>\n",
       "    </tr>\n",
       "    <tr>\n",
       "      <th>3</th>\n",
       "      <td>Soumission</td>\n",
       "      <td>R$50.10</td>\n",
       "      <td>20</td>\n",
       "    </tr>\n",
       "    <tr>\n",
       "      <th>4</th>\n",
       "      <td>Sharp Objects</td>\n",
       "      <td>R$47.82</td>\n",
       "      <td>20</td>\n",
       "    </tr>\n",
       "    <tr>\n",
       "      <th>5</th>\n",
       "      <td>Sapiens: A Brief History of Humankind</td>\n",
       "      <td>R$54.23</td>\n",
       "      <td>20</td>\n",
       "    </tr>\n",
       "    <tr>\n",
       "      <th>6</th>\n",
       "      <td>The Requiem Red</td>\n",
       "      <td>R$22.65</td>\n",
       "      <td>19</td>\n",
       "    </tr>\n",
       "    <tr>\n",
       "      <th>7</th>\n",
       "      <td>The Dirty Little Secrets of Getting Your Dream...</td>\n",
       "      <td>R$33.34</td>\n",
       "      <td>19</td>\n",
       "    </tr>\n",
       "    <tr>\n",
       "      <th>8</th>\n",
       "      <td>The Coming Woman: A Novel Based on the Life of...</td>\n",
       "      <td>R$17.93</td>\n",
       "      <td>19</td>\n",
       "    </tr>\n",
       "    <tr>\n",
       "      <th>9</th>\n",
       "      <td>The Boys in the Boat: Nine Americans and Their...</td>\n",
       "      <td>R$22.60</td>\n",
       "      <td>19</td>\n",
       "    </tr>\n",
       "    <tr>\n",
       "      <th>10</th>\n",
       "      <td>The Black Maria</td>\n",
       "      <td>R$52.15</td>\n",
       "      <td>19</td>\n",
       "    </tr>\n",
       "    <tr>\n",
       "      <th>11</th>\n",
       "      <td>Starving Hearts (Triangular Trade Trilogy, #1)</td>\n",
       "      <td>R$13.99</td>\n",
       "      <td>19</td>\n",
       "    </tr>\n",
       "    <tr>\n",
       "      <th>12</th>\n",
       "      <td>Shakespeare's Sonnets</td>\n",
       "      <td>R$20.66</td>\n",
       "      <td>19</td>\n",
       "    </tr>\n",
       "    <tr>\n",
       "      <th>13</th>\n",
       "      <td>Set Me Free</td>\n",
       "      <td>R$17.46</td>\n",
       "      <td>19</td>\n",
       "    </tr>\n",
       "    <tr>\n",
       "      <th>14</th>\n",
       "      <td>Scott Pilgrim's Precious Little Life (Scott Pi...</td>\n",
       "      <td>R$52.29</td>\n",
       "      <td>19</td>\n",
       "    </tr>\n",
       "    <tr>\n",
       "      <th>15</th>\n",
       "      <td>Rip it Up and Start Again</td>\n",
       "      <td>R$35.02</td>\n",
       "      <td>19</td>\n",
       "    </tr>\n",
       "    <tr>\n",
       "      <th>16</th>\n",
       "      <td>Our Band Could Be Your Life: Scenes from the A...</td>\n",
       "      <td>R$57.25</td>\n",
       "      <td>19</td>\n",
       "    </tr>\n",
       "    <tr>\n",
       "      <th>17</th>\n",
       "      <td>Olio</td>\n",
       "      <td>R$23.88</td>\n",
       "      <td>19</td>\n",
       "    </tr>\n",
       "    <tr>\n",
       "      <th>18</th>\n",
       "      <td>Mesaerion: The Best Science Fiction Stories 18...</td>\n",
       "      <td>R$37.59</td>\n",
       "      <td>19</td>\n",
       "    </tr>\n",
       "    <tr>\n",
       "      <th>19</th>\n",
       "      <td>Libertarianism for Beginners</td>\n",
       "      <td>R$51.33</td>\n",
       "      <td>19</td>\n",
       "    </tr>\n",
       "    <tr>\n",
       "      <th>20</th>\n",
       "      <td>It's Only the Himalayas</td>\n",
       "      <td>R$45.17</td>\n",
       "      <td>19</td>\n",
       "    </tr>\n",
       "  </tbody>\n",
       "</table>\n",
       "</div>"
      ],
      "text/plain": [
       "                                               Livros    Preço  Estoque\n",
       "1                                A Light in the Attic  R$51.77       22\n",
       "2                                  Tipping the Velvet  R$53.74       20\n",
       "3                                          Soumission  R$50.10       20\n",
       "4                                       Sharp Objects  R$47.82       20\n",
       "5               Sapiens: A Brief History of Humankind  R$54.23       20\n",
       "6                                     The Requiem Red  R$22.65       19\n",
       "7   The Dirty Little Secrets of Getting Your Dream...  R$33.34       19\n",
       "8   The Coming Woman: A Novel Based on the Life of...  R$17.93       19\n",
       "9   The Boys in the Boat: Nine Americans and Their...  R$22.60       19\n",
       "10                                    The Black Maria  R$52.15       19\n",
       "11     Starving Hearts (Triangular Trade Trilogy, #1)  R$13.99       19\n",
       "12                              Shakespeare's Sonnets  R$20.66       19\n",
       "13                                        Set Me Free  R$17.46       19\n",
       "14  Scott Pilgrim's Precious Little Life (Scott Pi...  R$52.29       19\n",
       "15                          Rip it Up and Start Again  R$35.02       19\n",
       "16  Our Band Could Be Your Life: Scenes from the A...  R$57.25       19\n",
       "17                                               Olio  R$23.88       19\n",
       "18  Mesaerion: The Best Science Fiction Stories 18...  R$37.59       19\n",
       "19                       Libertarianism for Beginners  R$51.33       19\n",
       "20                            It's Only the Himalayas  R$45.17       19"
      ]
     },
     "metadata": {},
     "output_type": "display_data"
    }
   ],
   "source": [
    "lista = pd.DataFrame({\n",
    "    \"Livros\": lista_titulos,\n",
    "    \"Preço\": lista_preco,\n",
    "    \"Estoque\": estoque\n",
    "})\n",
    "lista.index += 1\n",
    "\n",
    "display(lista)"
   ]
  },
  {
   "cell_type": "code",
   "execution_count": 7,
   "metadata": {},
   "outputs": [],
   "source": [
    "# lista.to_excel(\"Lista Excelzinho.xlsx\", index=False, header=False) # -> header=False irá remover o cabeçalho do DataFrame."
   ]
  }
 ],
 "metadata": {
  "kernelspec": {
   "display_name": "Python 3",
   "language": "python",
   "name": "python3"
  },
  "language_info": {
   "codemirror_mode": {
    "name": "ipython",
    "version": 3
   },
   "file_extension": ".py",
   "mimetype": "text/x-python",
   "name": "python",
   "nbconvert_exporter": "python",
   "pygments_lexer": "ipython3",
   "version": "3.12.3"
  }
 },
 "nbformat": 4,
 "nbformat_minor": 2
}
